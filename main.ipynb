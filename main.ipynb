{
 "cells": [
  {
   "cell_type": "code",
   "execution_count": 20,
   "id": "206c0fdf",
   "metadata": {},
   "outputs": [],
   "source": [
    "#%pip install annoy\n",
    "#%pip install memory_profiler\n",
    "#%pip install PyTorch\n",
    "#%pip install datasets\n",
    "#%pip install wordcloud\n",
    "#%pip install transformers\n",
    "#%pip install ann\n",
    "#%pip install tensorflow\n"
   ]
  },
  {
   "cell_type": "code",
   "execution_count": 1,
   "id": "21af4286",
   "metadata": {},
   "outputs": [
    {
     "name": "stderr",
     "output_type": "stream",
     "text": [
      "UsageError: Line magic function `%%capture` not found.\n"
     ]
    }
   ],
   "source": [
    "# @title Instalar EDIA y paquetes requeridos { display-mode: \"form\" }\n",
    "# @markdown Esto puede tomar unos minutos en completar.\n",
    "%%capture\n",
    "\n",
    "# Descarga y descomprimir archivo de word embeddings del español\n",
    "#!wget -q http://dcc.uchile.cl/~jperez/word-embeddings/fasttext-sbwc.100k.vec.gz\n",
    "!#gzip -d fasttext-sbwc.100k.vec.gz\n",
    "\n",
    "# Clonar repositorio\n",
    "!git clone https://github.com/fvialibre/edia.git\n",
    "\n",
    "# Crear directorio data/\n",
    "!mkdir edia/data\n",
    "\n",
    "# Mover word embeddings al directorio data/\n",
    "!mv fasttext-sbwc.100k.vec edia/data/fasttext-sbwc.100k.vec\n",
    "\n",
    "# Instalar gdown para descargar de Google Drive\n",
    "%pip3 -q install --upgrade gdown\n",
    "\n",
    "# Descargar y mover a direcotrio data/ vocabulario quarter\n",
    "!gdown https://drive.google.com/uc?id=1NYgWZTPDhpKsZO9qOsP29mKHviA_gsYW\n",
    "!mv quarter_vocab_v6.zip edia/data/quarter_vocab_v6.zip\n",
    "\n",
    "# Mover current directory al repo\n",
    "%cd edia/\n",
    "\n",
    "# Instalar paquetes y librerias requeridas\n",
    "!pip -q install -r requirements.txt\n",
    "\n",
    "# Por motivos de Google Colab, una version vieja de matplotlib es requerida\n",
    "%pip install matplotlib==3.1.3"
   ]
  },
  {
   "cell_type": "code",
   "execution_count": 2,
   "id": "f7eed505",
   "metadata": {},
   "outputs": [],
   "source": [
    "EMBEDDINGS_PATH = 'data/fasttext-sbwc.100k.vec'"
   ]
  },
  {
   "cell_type": "code",
   "execution_count": 21,
   "id": "c72df962",
   "metadata": {},
   "outputs": [
    {
     "ename": "ModuleNotFoundError",
     "evalue": "No module named 'modules.model_embbeding'; 'modules' is not a package",
     "output_type": "error",
     "traceback": [
      "\u001b[0;31m---------------------------------------------------------------------------\u001b[0m",
      "\u001b[0;31mModuleNotFoundError\u001b[0m                       Traceback (most recent call last)",
      "\u001b[0;32m/var/folders/sw/ywfjlc8d22902gxr8wwrsfnw0000gn/T/ipykernel_19196/3575081574.py\u001b[0m in \u001b[0;36m<module>\u001b[0;34m\u001b[0m\n\u001b[0;32m----> 1\u001b[0;31m \u001b[0;32mfrom\u001b[0m \u001b[0mmodules\u001b[0m\u001b[0;34m.\u001b[0m\u001b[0mmodel_embbeding\u001b[0m \u001b[0;32mimport\u001b[0m \u001b[0mEmbedding\u001b[0m\u001b[0;34m\u001b[0m\u001b[0;34m\u001b[0m\u001b[0m\n\u001b[0m\u001b[1;32m      2\u001b[0m \u001b[0;32mfrom\u001b[0m \u001b[0mmodules\u001b[0m\u001b[0;34m.\u001b[0m\u001b[0mmodule_rankSents\u001b[0m \u001b[0;32mimport\u001b[0m \u001b[0mRankSents\u001b[0m\u001b[0;34m\u001b[0m\u001b[0;34m\u001b[0m\u001b[0m\n\u001b[1;32m      3\u001b[0m \u001b[0;32mfrom\u001b[0m \u001b[0mmodules\u001b[0m\u001b[0;34m.\u001b[0m\u001b[0mmodule_crowsPairs\u001b[0m \u001b[0;32mimport\u001b[0m \u001b[0mCrowsPairs\u001b[0m\u001b[0;34m\u001b[0m\u001b[0;34m\u001b[0m\u001b[0m\n\u001b[1;32m      4\u001b[0m \u001b[0;32mfrom\u001b[0m \u001b[0mmodules\u001b[0m\u001b[0;34m.\u001b[0m\u001b[0mmodule_vocabulary\u001b[0m \u001b[0;32mimport\u001b[0m \u001b[0mVocabulary\u001b[0m\u001b[0;34m\u001b[0m\u001b[0;34m\u001b[0m\u001b[0m\n\u001b[1;32m      5\u001b[0m \u001b[0;32mfrom\u001b[0m \u001b[0mmodules\u001b[0m\u001b[0;34m.\u001b[0m\u001b[0mmodule_WordExplorer\u001b[0m \u001b[0;32mimport\u001b[0m \u001b[0mWordExplorer\u001b[0m\u001b[0;34m\u001b[0m\u001b[0;34m\u001b[0m\u001b[0m\n",
      "\u001b[0;31mModuleNotFoundError\u001b[0m: No module named 'modules.model_embbeding'; 'modules' is not a package"
     ]
    }
   ],
   "source": [
    "from modules.model_embbeding import Embedding\n",
    "from modules.module_rankSents import RankSents\n",
    "from modules.module_crowsPairs import CrowsPairs\n",
    "from modules.module_vocabulary import Vocabulary\n",
    "from modules.module_WordExplorer import WordExplorer\n",
    "from modules.module_word2Context import Word2Context\n",
    "from modules.module_languageModel import LanguageModel\n",
    "from modules.module_ErrorManager import ErrorManager\n",
    "from modules.module_BiasExplorer import WEBiasExplorer2Spaces, WEBiasExplorer4Spaces\n",
    "emb = Embedding(\n",
    "    path=EMBEDDINGS_PATH,\n",
    "    limit=100_000,                                # Número maximo de vectores a extraer\n",
    "    randomizedPCA=False,                          # Utilizar la metodologia `randomized` de obtencion de PCA\n",
    "    max_neighbors=20,                             # Número máximo de vecinos por palabra a calcular\n",
    "    nn_method='sklearn'                           # Algoritmo de obtención de vecinos\n",
    ")\n",
    "\n",
    "errorManager             = ErrorManager('modules/error_messages/es.json')\n",
    "explorador_de_palabras   = WordExplorer(emb, errorManager)\n",
    "explorador_de_sesgos_2   = WEBiasExplorer2Spaces(emb, errorManager)\n",
    "explorador_de_sesgos_4   = WEBiasExplorer4Spaces(emb, errorManager)\n",
    "explorador_de_datos      = Word2Context('vialibre/splittedspanish3bwc', Vocabulary('quarter'), errorManager)"
   ]
  },
  {
   "cell_type": "code",
   "execution_count": null,
   "id": "572614e9",
   "metadata": {},
   "outputs": [],
   "source": []
  },
  {
   "cell_type": "code",
   "execution_count": null,
   "id": "0fcaa85f",
   "metadata": {},
   "outputs": [],
   "source": []
  }
 ],
 "metadata": {
  "kernelspec": {
   "display_name": "Python 3 (ipykernel)",
   "language": "python",
   "name": "python3"
  },
  "language_info": {
   "codemirror_mode": {
    "name": "ipython",
    "version": 3
   },
   "file_extension": ".py",
   "mimetype": "text/x-python",
   "name": "python",
   "nbconvert_exporter": "python",
   "pygments_lexer": "ipython3",
   "version": "3.9.13"
  }
 },
 "nbformat": 4,
 "nbformat_minor": 5
}
