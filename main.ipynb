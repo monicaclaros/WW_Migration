{
 "cells": [
  {
   "cell_type": "code",
   "execution_count": 60,
   "id": "e0cd8fc7",
   "metadata": {},
   "outputs": [],
   "source": [
    "# Descarga y descomprimir archivo de word embeddings del español\n",
    "#!wget -q http://dcc.uchile.cl/~jperez/word-embeddings/fasttext-sbwc.100k.vec.gz\n",
    "#!gzip -d fasttext-sbwc.100k.vec.gz\n",
    "# Clonar repositorio\n",
    "#!git clone https://github.com/fvialibre/edia.git\n",
    "\n"
   ]
  },
  {
   "cell_type": "code",
   "execution_count": 66,
   "id": "6bcde2ce",
   "metadata": {},
   "outputs": [],
   "source": [
    "# Instalar paquetes y librerias requeridas\n",
    "#%pip -q install -r requirements.txt"
   ]
  },
  {
   "cell_type": "code",
   "execution_count": 62,
   "id": "9712a00f",
   "metadata": {},
   "outputs": [],
   "source": [
    "EMBEDDINGS_PATH = 'data/fasttext-sbwc.100k.vec'"
   ]
  },
  {
   "cell_type": "code",
   "execution_count": 63,
   "id": "206c0fdf",
   "metadata": {},
   "outputs": [],
   "source": [
    "#%pip install annoy\n",
    "#%pip install memory_profiler\n",
    "#%pip install torch\n",
    "#%pip install datasets\n",
    "#%pip install wordcloud\n",
    "#%pip install transformers"
   ]
  },
  {
   "cell_type": "code",
   "execution_count": 64,
   "id": "2022bc7a",
   "metadata": {},
   "outputs": [],
   "source": [
    "EMBEDDINGS_PATH = 'data/fasttext-sbwc.100k.vec'"
   ]
  },
  {
   "cell_type": "code",
   "execution_count": 65,
   "id": "7ee4e843",
   "metadata": {},
   "outputs": [],
   "source": [
    "from modules.model_embbeding import Embedding\n",
    "from modules.module_rankSents import RankSents\n",
    "from modules.module_crowsPairs import CrowsPairs\n",
    "from modules.module_vocabulary import Vocabulary\n",
    "from modules.module_WordExplorer import WordExplorer\n",
    "from modules.module_word2Context import Word2Context\n",
    "from modules.module_languageModel import LanguageModel\n",
    "from modules.module_ErrorManager import ErrorManager\n",
    "from modules.module_BiasExplorer import WEBiasExplorer2Spaces, WEBiasExplorer4Spaces"
   ]
  },
  {
   "cell_type": "code",
   "execution_count": 67,
   "id": "026ff117",
   "metadata": {},
   "outputs": [
    {
     "name": "stdout",
     "output_type": "stream",
     "text": [
      "Preparing fasttext-sbwc.100k.vec embeddings...\n"
     ]
    },
    {
     "ename": "FileNotFoundError",
     "evalue": "data/fasttext-sbwc.100k.vec",
     "output_type": "error",
     "traceback": [
      "\u001b[0;31m---------------------------------------------------------------------------\u001b[0m",
      "\u001b[0;31mFileNotFoundError\u001b[0m                         Traceback (most recent call last)",
      "\u001b[0;32m/var/folders/sw/ywfjlc8d22902gxr8wwrsfnw0000gn/T/ipykernel_7496/3557819348.py\u001b[0m in \u001b[0;36m<module>\u001b[0;34m\u001b[0m\n\u001b[0;32m----> 1\u001b[0;31m emb = Embedding(\n\u001b[0m\u001b[1;32m      2\u001b[0m     \u001b[0mpath\u001b[0m\u001b[0;34m=\u001b[0m\u001b[0mEMBEDDINGS_PATH\u001b[0m\u001b[0;34m,\u001b[0m\u001b[0;34m\u001b[0m\u001b[0;34m\u001b[0m\u001b[0m\n\u001b[1;32m      3\u001b[0m     \u001b[0mlimit\u001b[0m\u001b[0;34m=\u001b[0m\u001b[0;36m100_000\u001b[0m\u001b[0;34m,\u001b[0m                                \u001b[0;31m# Número maximo de vectores a extraer\u001b[0m\u001b[0;34m\u001b[0m\u001b[0;34m\u001b[0m\u001b[0m\n\u001b[1;32m      4\u001b[0m     \u001b[0mrandomizedPCA\u001b[0m\u001b[0;34m=\u001b[0m\u001b[0;32mFalse\u001b[0m\u001b[0;34m,\u001b[0m                          \u001b[0;31m# Utilizar la metodologia `randomized` de obtencion de PCA\u001b[0m\u001b[0;34m\u001b[0m\u001b[0;34m\u001b[0m\u001b[0m\n\u001b[1;32m      5\u001b[0m     \u001b[0mmax_neighbors\u001b[0m\u001b[0;34m=\u001b[0m\u001b[0;36m20\u001b[0m\u001b[0;34m,\u001b[0m                             \u001b[0;31m# Número máximo de vecinos por palabra a calcular\u001b[0m\u001b[0;34m\u001b[0m\u001b[0;34m\u001b[0m\u001b[0m\n",
      "\u001b[0;32m~/Hola_Ironhack/Sesgo_genero_racial_LLMs/edia/modules/model_embbeding.py\u001b[0m in \u001b[0;36m__init__\u001b[0;34m(self, path, limit, randomizedPCA, max_neighbors, nn_method)\u001b[0m\n\u001b[1;32m     39\u001b[0m \u001b[0;34m\u001b[0m\u001b[0m\n\u001b[1;32m     40\u001b[0m         \u001b[0;31m# Load embedding and pca dataset\u001b[0m\u001b[0;34m\u001b[0m\u001b[0;34m\u001b[0m\u001b[0m\n\u001b[0;32m---> 41\u001b[0;31m         \u001b[0mself\u001b[0m\u001b[0;34m.\u001b[0m\u001b[0m__load\u001b[0m\u001b[0;34m(\u001b[0m\u001b[0;34m)\u001b[0m\u001b[0;34m\u001b[0m\u001b[0;34m\u001b[0m\u001b[0m\n\u001b[0m\u001b[1;32m     42\u001b[0m \u001b[0;34m\u001b[0m\u001b[0m\n\u001b[1;32m     43\u001b[0m     def __load(\n",
      "\u001b[0;32m~/Hola_Ironhack/Sesgo_genero_racial_LLMs/edia/modules/model_embbeding.py\u001b[0m in \u001b[0;36m__load\u001b[0;34m(self)\u001b[0m\n\u001b[1;32m     52\u001b[0m \u001b[0;34m\u001b[0m\u001b[0m\n\u001b[1;32m     53\u001b[0m         \u001b[0;31m# --- Prepare dataset ---\u001b[0m\u001b[0;34m\u001b[0m\u001b[0;34m\u001b[0m\u001b[0m\n\u001b[0;32m---> 54\u001b[0;31m         self.ds = self.__preparate(\n\u001b[0m\u001b[1;32m     55\u001b[0m             \u001b[0mself\u001b[0m\u001b[0;34m.\u001b[0m\u001b[0mpath\u001b[0m\u001b[0;34m,\u001b[0m \u001b[0mself\u001b[0m\u001b[0;34m.\u001b[0m\u001b[0mlimit\u001b[0m\u001b[0;34m,\u001b[0m \u001b[0mself\u001b[0m\u001b[0;34m.\u001b[0m\u001b[0mrandomizedPCA\u001b[0m\u001b[0;34m\u001b[0m\u001b[0;34m\u001b[0m\u001b[0m\n\u001b[1;32m     56\u001b[0m         )\n",
      "\u001b[0;32m~/Hola_Ironhack/Sesgo_genero_racial_LLMs/edia/modules/model_embbeding.py\u001b[0m in \u001b[0;36m__preparate\u001b[0;34m(self, path, limit, randomizedPCA)\u001b[0m\n\u001b[1;32m     80\u001b[0m \u001b[0;34m\u001b[0m\u001b[0m\n\u001b[1;32m     81\u001b[0m         \u001b[0;32mif\u001b[0m \u001b[0;32mnot\u001b[0m \u001b[0mos\u001b[0m\u001b[0;34m.\u001b[0m\u001b[0mpath\u001b[0m\u001b[0;34m.\u001b[0m\u001b[0misfile\u001b[0m\u001b[0;34m(\u001b[0m\u001b[0mpath\u001b[0m\u001b[0;34m)\u001b[0m\u001b[0;34m:\u001b[0m\u001b[0;34m\u001b[0m\u001b[0;34m\u001b[0m\u001b[0m\n\u001b[0;32m---> 82\u001b[0;31m             \u001b[0;32mraise\u001b[0m \u001b[0mFileNotFoundError\u001b[0m\u001b[0;34m(\u001b[0m\u001b[0mpath\u001b[0m\u001b[0;34m)\u001b[0m\u001b[0;34m\u001b[0m\u001b[0;34m\u001b[0m\u001b[0m\n\u001b[0m\u001b[1;32m     83\u001b[0m \u001b[0;34m\u001b[0m\u001b[0m\n\u001b[1;32m     84\u001b[0m         \u001b[0;32mif\u001b[0m \u001b[0mrandomizedPCA\u001b[0m\u001b[0;34m:\u001b[0m\u001b[0;34m\u001b[0m\u001b[0;34m\u001b[0m\u001b[0m\n",
      "\u001b[0;31mFileNotFoundError\u001b[0m: data/fasttext-sbwc.100k.vec"
     ]
    }
   ],
   "source": [
    "emb = Embedding(\n",
    "    path=EMBEDDINGS_PATH,\n",
    "    limit=100_000,                                # Número maximo de vectores a extraer\n",
    "    randomizedPCA=False,                          # Utilizar la metodologia `randomized` de obtencion de PCA\n",
    "    max_neighbors=20,                             # Número máximo de vecinos por palabra a calcular\n",
    "    nn_method='sklearn'                           # Algoritmo de obtención de vecinos\n",
    ")"
   ]
  },
  {
   "cell_type": "code",
   "execution_count": null,
   "id": "c0dbe55d",
   "metadata": {},
   "outputs": [],
   "source": []
  }
 ],
 "metadata": {
  "kernelspec": {
   "display_name": "Python 3 (ipykernel)",
   "language": "python",
   "name": "python3"
  },
  "language_info": {
   "codemirror_mode": {
    "name": "ipython",
    "version": 3
   },
   "file_extension": ".py",
   "mimetype": "text/x-python",
   "name": "python",
   "nbconvert_exporter": "python",
   "pygments_lexer": "ipython3",
   "version": "3.9.13"
  }
 },
 "nbformat": 4,
 "nbformat_minor": 5
}
